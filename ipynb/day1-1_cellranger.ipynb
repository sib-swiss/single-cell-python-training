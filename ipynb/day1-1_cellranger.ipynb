{
 "cells": [
  {
   "cell_type": "markdown",
   "id": "d812ca99-21e8-47ba-817c-7d142c05e714",
   "metadata": {},
   "source": [
    "# Cell Ranger"
   ]
  },
  {
   "cell_type": "markdown",
   "id": "781b1f69",
   "metadata": {},
   "source": [
    "<style>\n",
    "    .large-link {\n",
    "        font-size: 30px;\n",
    "        font-family: Arial, sans-serif;\n",
    "        color: #333;\n",
    "        text-decoration: none;\n",
    "    }\n",
    "</style>\n",
    "<a href=\"../assets/pdf/01_introduction.pdf\" target=\"_blank\" class=\"large-link\">Presentation: General introduction</a>"
   ]
  },
  {
   "cell_type": "markdown",
   "id": "9796e04f",
   "metadata": {},
   "source": [
    "<style>\n",
    "    .large-link {\n",
    "        font-size: 30px;\n",
    "        font-family: Arial, sans-serif;\n",
    "        color: #333;\n",
    "        text-decoration: none;\n",
    "    }\n",
    "</style>\n",
    "<a href=\"../assets/pdf/02_introduction_scRNAseq.pdf\" target=\"_blank\" class=\"large-link\">Presentation: Introduction to scRNA-seq</a>"
   ]
  },
  {
   "cell_type": "markdown",
   "id": "fc720e49-8a41-4769-b1da-8368e8d58238",
   "metadata": {},
   "source": [
    "## Learning outcomes\n",
    "\n",
    "**After having completed this chapter you will be able to:**\n",
    "\n",
    "- Explain what kind of information single-cell RNA-seq (scRNA-seq) can give you to answer a biological question\n",
    "- Describe essential considerations during the design of a single-cell RNA-seq experiment\n",
    "- Describe the pros and cons of different single-cell sequencing methods\n",
    "- Use cellranger to:\n",
    "    - To align reads and generate count tables\n",
    "    - Perform basic QC on alignments and counts"
   ]
  },
  {
   "cell_type": "markdown",
   "id": "57682669-b406-415e-89b8-4d33b0e9d4a6",
   "metadata": {},
   "source": [
    "## Running `cellranger count`"
   ]
  },
  {
   "cell_type": "markdown",
   "id": "c1d60566-1f4d-42a2-bedd-fa79d801544e",
   "metadata": {},
   "source": [
    "The exercises below assume that you are enrolled in the course, and have access to the server. **These exercises are not essential to run for the rest of the course**, so you can skip them. If you want to do them anyway, you can try to [install `cellranger` locally](https://support.10xgenomics.com/single-cell-gene-expression/software/pipelines/latest/installation) (only on Linux or WSL). In addition, you will need to download the references. You can get it by with this code (choose your OS):\n",
    "\n",
    "## Linux/MacOS/WSL\n",
    "Run the following commands in the terminal or other command line prompt application:\n",
    "```\n",
    "    wget https://single-cell-transcriptomics.s3.eu-central-1.amazonaws.com/cellranger_index.tar.gz\n",
    "    tar -xvf cellranger_index.tar.gz\n",
    "    rm cellranger_index.tar.gz\n",
    "```\n",
    "\n",
    "## Windows\n",
    "Download using the [link](https://single-cell-transcriptomics.s3.eu-central-1.amazonaws.com/cellranger_index.tar.gz), and unpack in your working directory. \n",
    "This will download and extract the index in the current directory. Specify the path to this reference in the exercises accordingly. "
   ]
  },
  {
   "cell_type": "markdown",
   "id": "cd023e06-9040-405e-b924-8b9e7ab00cec",
   "metadata": {},
   "source": [
    "## Data overview\n",
    "Have a look in the directory `course_data/reads` and `cellranger_index`. In the `reads` directory you will find reads on one sample: `ETV6-RUNX1_1`. In the analysis part of the course we will work with six samples, but due to time and computational limitations we will run `cellranger count` on one of the samples, and only reads originating from chromsome 21 and 22. \n",
    "\n",
    "The input you need to run `cellranger count` are the sequence reads and a reference. Here, we have prepared a reference only with chromosome 21 and 22, but in 'real life' you would of course get the full reference genome of your species. The reference has a specific format. You can download precomputed human and mouse references from the [10X website](https://support.10xgenomics.com/single-cell-gene-expression/software/downloads/latest). If your species of interest is not one of those, you will have to generate it yourself. For that, have a look [here](https://support.10xgenomics.com/single-cell-gene-expression/software/pipelines/latest/using/tutorial_mr).\n",
    "\n",
    "To be able to run cellranger in the compute environment, first run:\n",
    "\n",
    "    export PATH=/data/cellranger-8.0.1:$PATH"
   ]
  },
  {
   "cell_type": "markdown",
   "id": "68812e1e-85af-47c0-a947-97fa82e0b762",
   "metadata": {},
   "source": [
    "Have a look at the documentation of [`cellranger count`](https://support.10xgenomics.com/single-cell-gene-expression/software/pipelines/latest/using/count) (scroll down to *Command-line argument reference*).\n",
    "\n",
    "You can find the input files here:\n",
    "\n",
    "- reads: `course_data/reads/` (from the downloaded tar package in your home directory)\n",
    "- pre-indexed reference: `cellranger_index`"
   ]
  },
  {
   "cell_type": "markdown",
   "id": "cdf9dfdb-0c50-4229-bdcf-4b7469f968b0",
   "metadata": {},
   "source": [
    "**Exercise 1**: Fill out the missing arguments (at `FIXME`) in the script below, and run it:\n",
    "\n",
    "```\n",
    "cellranger count \\\n",
    "--id=FIXME \\\n",
    "--sample=FIXME \\\n",
    "--transcriptome=FIXME \\\n",
    "--fastqs=FIXME \\\n",
    "--localcores=4 \\\n",
    "--create-bam=true\n",
    "```"
   ]
  },
  {
   "cell_type": "markdown",
   "id": "de57e8a6-01af-460f-bf6d-3edeacc619ff",
   "metadata": {},
   "source": [
    "### This will take a while...\n",
    "Once started, the process will need approximately 15 minutes to finish. Have a coffee and/or have a look at the other exercises. \n"
   ]
  },
  {
   "cell_type": "markdown",
   "id": "5d0b0494-93cd-4993-8001-b0548bac4152",
   "metadata": {},
   "source": [
    "<button onclick=\"toggleVisibility('answer1')\">Click for Answer</button>\n",
    "<div id=\"answer1\" style=\"display:none;\">\n",
    "<pre>\n",
    "    cellranger count \\\n",
    "    --id=ETV6-RUNX1_1 \\\n",
    "    --sample=ETV6-RUNX1_1 \\\n",
    "    --transcriptome=cellranger_index \\\n",
    "    --fastqs=course_data/reads \\\n",
    "    --localcores=4 \\\n",
    "    --create-bam=true\n",
    "</pre>\n",
    "<script>\n",
    "function toggleVisibility(id) {\n",
    "   var element = document.getElementById(id);\n",
    "   if (element.style.display === 'none') {\n",
    "       element.style.display = 'block';\n",
    "   } else {\n",
    "       element.style.display = 'none';\n",
    "   }\n",
    "}\n",
    "</script>"
   ]
  },
  {
   "cell_type": "markdown",
   "id": "1e92ccad-236e-4a0a-b11e-cad7e5e1ebe1",
   "metadata": {},
   "source": [
    "## Opening `cellranger` output"
   ]
  },
  {
   "cell_type": "markdown",
   "id": "97c1a7e2-8448-43bc-a026-7068009a31c5",
   "metadata": {},
   "source": [
    "Have a look out the output directory (i.e. `~/ETV6-RUNX1_1/outs`). The analysis report (`web_summary.html`) is usually a good place to start. "
   ]
  },
  {
   "cell_type": "markdown",
   "id": "fc4a2b0b-9848-42f4-8a15-f82f24ba1588",
   "metadata": {},
   "source": [
    "**Exercise 2**: Have a good look inside `web_summary.html`. Anything that draws your attention? Is this report good enough to continue the analysis? "
   ]
  },
  {
   "cell_type": "markdown",
   "id": "6adaf850-21b8-4732-8c71-c9bba48e6527",
   "metadata": {},
   "source": [
    "<button onclick=\"toggleVisibility('answer2')\">Click for Answer</button>\n",
    "<div id=\"answer2\" style=\"display:none;\">\n",
    "Not really. First of all there is a warning: `Fraction of RNA read bases with Q-score >= 30 is low`. This means that there is a low base quality of the reads. A low base quality gives results in more sequencing error and therefore possibly lower performance while mapping the reads to genes. However, a Q-score of 30 still represents 99.9% accuracy. \n",
    "\n",
    "What should worry us more is the **number of reads per cell** (363) and the **sequencing saturation** (7.9%). In most cases you should aim for 30.000 - 50.000 reads per cell (depending on the application). We therefore don't have enough reads per cell. However, as you might remember, this was a subset of reads (1 million) mapped against chromosome 21 & 22, while the original dataset contains 210,987,037 reads. You can check out the original report at <code>course_data/count_matrices/ETV6-RUNX1_1/outs/web_summary.html</code>.\n",
    "\n",
    "For more info on sequencing saturation, have a look [here](\n",
    "https://kb.10xgenomics.com/hc/en-us/articles/115002474263-How-much-sequencing-saturation-should-I-aim-for-). \n",
    "<script>\n",
    "function toggleVisibility(id) {\n",
    "   var element = document.getElementById(id);\n",
    "   if (element.style.display === 'none') {\n",
    "       element.style.display = 'block';\n",
    "   } else {\n",
    "       element.style.display = 'none';\n",
    "   }\n",
    "}\n",
    "</script>"
   ]
  },
  {
   "cell_type": "markdown",
   "id": "1fffc452-280b-42d1-a2f3-317ade1e67a7",
   "metadata": {},
   "source": [
    "## Understanding the CellRanger output"
   ]
  },
  {
   "cell_type": "markdown",
   "id": "6e4cdd74-3138-4a0e-96a5-ecbb98f11495",
   "metadata": {},
   "source": [
    "The run summary from cellranger count can be viewed by clicking \"Summary\" in the top left corner. The summary metrics describe sequencing quality and various characteristics of the detected cells. Similar web summaries are also output from the `cellranger reanalyze` and `cellranger aggr` pipelines.\n",
    "\n",
    "This report will serve you as first-line feedback on how the experiment went. It provides an easily accessible summary to scrutinize the success of the experiment.\n",
    "\n",
    "It will help answering the questions like: \n",
    "\n",
    "- What is the quality of the run?\n",
    "- How many cells do you have?\n",
    "- Is the cell count estimate credible?\n",
    "- Was the sample sequenced deep enough? Where the cells intact and well?\n",
    "- Is the quality of the cells uniform?\n",
    "\n",
    "Note that some of these questions will be more definitively answered during a successive (more hands-on) part of quality control (QC) process. Consider this just the beginning of the scrutiny.\n",
    "\n",
    "**Basic QC metrics**\n",
    "\n",
    "The number of cells detected, the mean reads per cell, and the median genes detected per cell are prominently displayed near the top of the page.\n",
    "\n",
    "![](Aspose.Words.2e953e9a-44c0-496e-9758-25b7bd47b079.002.jpeg)\n",
    "\n",
    "*Estimated Cell number:* This is determined from the number of cell barcodes with a 'reasonable' numbers of observations. This number is an *estimate* because there is no binary flag “full/empty” that tell us if a droplet had a cell inside or not. Every droplet will enter in contact with some free-floating RNA, therefore some threshold needs to be set to cell-associated barcodes vs noise from empty GEMs. However, this threshold cannot be a fixed number as it will depend on the overall quality of the experiment, size of the cells and depth of the sequences and mis-called sequences. So, this number automatically estimated from the \"Barcode Rank Plot\" that we will see below.\n",
    "\n",
    "Note: this number is estimated using the thresholds to `cellranger count` as a bias, if the threshold is changed the count can give different predictions, and in some cases it will be necessary to do so. For example: to account for a not-so-successful experiment with high level of free-floating mRNA in the input cell suspension or a lysis caused mixing the RT mix with the cell suspension.\n",
    "\n",
    "*Mean Read per cell:* This is the mean of sequencing reads that is obtained on average to the cells. Note that this refers only to the ones counted in \"Estimated number of cells\" and therefore: \n",
    "\n",
    "*Estimated\\_Cell\\_number \\* Mean\\_Read\\_per\\_cell ≠ Illumina\\_Reads*.\n",
    "\n",
    "Also note that this number DOES NOT correspond to the number of UMI per cells (the value that is actually used for the analysis)."
   ]
  },
  {
   "cell_type": "markdown",
   "id": "6ce3699a-e95f-4695-ab1a-32116846b8b7",
   "metadata": {},
   "source": [
    "**Exercise 3**: On the basis of what learned in the lectures and above, can you explain how \"Mean Reads per cell\" and \"UMI count\" are related? How is \"UMI count\" obtained by the pipeline? Will doubling the number of reads double the number of UMIs?"
   ]
  },
  {
   "cell_type": "markdown",
   "id": "55e6f9c2-0f76-412c-926b-383de98d4390",
   "metadata": {},
   "source": [
    "<button onclick=\"toggleVisibility('answer3')\">Click for Answer</button>\n",
    "<div id=\"answer3\" style=\"display:none;\">\n",
    "The mean reads per cell is the number of FASTQ READS containing a cell barcode assigned to a particular cell. The UMI count is the number of unique RNA MOLECULES that were sequenced assigned to a particular gene and cell. The cellranger pipeline determines the UMI count using the UMI barcode, which is different from the cell barcode. The UMI barcode is unique to each distinct RNA molecule in a cell. So, there is a possibility of multiple reads containing the same UMI barcode and being \"collapsed\" into a single count for the UMI count. \n",
    "    \n",
    "Doubling the number of reads will likely increase the number of UMIs, due to the detection of new RNA molecules with increased sequencing depth, but it will not double the number of UMIs because many additional reads will be assigned to the same RNA/UMI barcode.\n",
    "<script>\n",
    "function toggleVisibility(id) {\n",
    "   var element = document.getElementById(id);\n",
    "   if (element.style.display === 'none') {\n",
    "       element.style.display = 'block';\n",
    "   } else {\n",
    "       element.style.display = 'none';\n",
    "   }\n",
    "}\n",
    "</script>"
   ]
  },
  {
   "cell_type": "markdown",
   "id": "77153a82-2c07-4818-859e-2c30cc62ea8e",
   "metadata": {},
   "source": [
    "\n",
    "## Diagnostic QC metrics – Sequencing\n",
    "\n",
    "![](Aspose.Words.2e953e9a-44c0-496e-9758-25b7bd47b079.003.jpeg)\n",
    "\n",
    "\n",
    "#### Number of Reads\n",
    "\n",
    "Total number of read pairs that were assigned to this library in demultiplexing.\n",
    "\n",
    "#### Valid Barcodes\n",
    "\n",
    "Fraction of reads with barcodes that match the whitelist after barcode correction.\n",
    "\n",
    "#### Sequencing Saturation\n",
    "\n",
    "The fraction of reads originating from an already-observed UMI. This is a function of library complexity and sequencing depth. More specifically, this is the fraction of confidently mapped, valid cell-barcode, valid UMI reads that had a non-unique (cell-barcode, UMI, gene). This metric was called \"cDNA PCR Duplication\" in versions of Cell Ranger prior to 1.2.\n",
    "\n",
    "#### Q30 Bases in Barcode\n",
    "\n",
    "Fraction of cell barcode bases with Q-score >= 30, excluding very low quality/no-call (Q <= 2) bases from the denominator.\n",
    "\n",
    "#### Q30 Bases in RNA Read\n",
    "\n",
    "Fraction of RNA read bases with Q-score >= 30, excluding very low quality/no-call (Q <= 2) bases from the denominator. This is Read 1 for the Single Cell 3' v1 chemistry and Read 2 for the Single Cell 3' v2 chemistry.\n",
    "\n",
    "#### Q30 Bases in Sample Index\n",
    "\n",
    "Fraction of sample index bases with Q-score >= 30, excluding very low quality/no-call (Q <= 2) bases from the denominator.\n",
    "\n",
    "#### Q30 Bases in UMI\n",
    "\n",
    "Fraction of UMI bases with Q-score >= 30, excluding very low quality/no-call (Q <= 2) bases from the denominator.\n",
    "\n",
    "### Diagnostic QC metrics – Mapping\n",
    "\n",
    "![](Aspose.Words.2e953e9a-44c0-496e-9758-25b7bd47b079.004.jpeg)\n",
    "\n",
    "#### Reads Mapped to Genome\n",
    "\n",
    "Fraction of reads that mapped to the genome.\n",
    "\n",
    "#### Reads Mapped Confidently to Genome\n",
    "\n",
    "Fraction of reads that mapped uniquely to the genome. If a gene mapped to exonic loci from a single gene and also to non-exonic loci, it is considered uniquely mapped to one of the exonic loci.\n",
    "\n",
    "#### Reads Mapped Confidently to Intergenic Regions\n",
    "\n",
    "Fraction of reads that mapped uniquely to an intergenic region of the genome.\n",
    "\n",
    "#### Reads Mapped Confidently to Intronic Regions\n",
    "\n",
    "Fraction of reads that mapped uniquely to an intronic region of the genome.\n",
    "\n",
    "#### Reads Mapped Confidently to Exonic Regions\n",
    "\n",
    "Fraction of reads that mapped uniquely to an exonic region of the genome.\n",
    "\n",
    "#### Reads Mapped Confidently to Transcriptome\n",
    "\n",
    "Fraction of reads that mapped to a unique gene in the transcriptome. The read must be consistent with annotated splice junctions. These reads are considered for UMI counting.\n",
    "\n",
    "#### Reads Mapped Antisense to Gene\n",
    "\n",
    "Fraction of reads confidently mapped to the transcriptome, but on the opposite strand of their annotated gene. A read is counted as antisense if it has any alignments that are consistent with an exon of a transcript but antisense to it, and has no sense alignments.\n",
    "\n",
    "## Ranked Barcode Plot\n",
    "\n",
    "The Barcode Rank Plot under the \"Cells\" dashboard shows the distribution of barcode counts and which barcodes were inferred to be associated with cells. It is one of the most informative QC plots, it enables one to assess sample quality and to formulate hypothesis of what might have gone wrong if the experiment was not perfectly successful.\n",
    "\n",
    "To obtain this plot, reads are grouped by barcode, the number of UMI is counted, resulting in a vector of UMI count per barcode (note: one barcode - one GEM!). The counts are then sorted and the vector is displayed in rank vs counts plot:\n",
    "\n",
    "The y-axis is the number of UMI counts mapped to each barcode and the x-axis is the number of barcodes below that value.\n",
    "\n",
    "Note that due to the high number of GEMs with at least one UMI the only way to visualize all the data is a log-log axes plot.\n",
    "\n",
    "How does one interpret the plot? What to expect?\n",
    "\n",
    "Ideally there is a steep dropoff separating high UMI count cells from low UMI count background noise:\n",
    "\n",
    "A steep drop-off is indicative of good separation between the cell-associated barcodes and the barcodes associated with empty partitions.\n",
    "\n",
    "Barcodes can be determined to be cell-associated based on their UMI count or by their RNA profiles, therefore some regions of the graph can contain both cell-associated and background-associated barcodes.\n",
    "\n",
    "The color of the graph represents the local density of barcodes that are cell-associated.\n",
    "\n",
    "In fact, the cutoff is determined with a two-step procedure:\n",
    "\n",
    "- It uses a cutoff based on total UMI counts of each barcode to identify cells. This step identifies the primary mode of high RNA content cells.\n",
    "- ![](Aspose.Words.2e953e9a-44c0-496e-9758-25b7bd47b079.005.jpeg)Then the algorithm uses the RNA profile of each remaining barcode to determine if it is an “empty\" or a cell containing partition. This second step captures low RNA content cells, whose total UMI counts may be similar to empty GEMs.\n",
    "\n",
    "## Saturation - is there a gain in sequencing more?\n",
    "\n",
    "The sequencing saturation plot allows the user to assess the relative tradeoffs of sequencing deeper or shallower. As sequencing saturation increases, the total number of molecules detected in the library increases, but with diminishing returns as saturation is approached.\n",
    "\n",
    "A good rule of thumb for most cell types is that: An average of 40k reads per cell is a minimal sufficient that with 80k reads being usually an excellent depth. There is certainly gain in sequencing more but it is not cost-effective in general. So, it is important to evaluate if going deeper has a value to your scientific question.\n",
    "\n",
    "![](Aspose.Words.2e953e9a-44c0-496e-9758-25b7bd47b079.006.jpeg)![](Aspose.Words.2e953e9a-44c0-496e-9758-25b7bd47b079.007.jpeg)\n",
    "\n",
    "## Analysis view\n",
    "\n",
    "The automated secondary analysis results can be viewed by clicking \"Analysis\" in the top left corner. The secondary analysis provides the following:\n",
    "\n",
    "A dimensional reduction analysis which projects the cells into a 2-D space (t-SNE), including an automated clustering analysis which groups together cells that have similar expression profiles.\n",
    "\n",
    "![](Aspose.Words.2e953e9a-44c0-496e-9758-25b7bd47b079.008.jpeg)\n",
    "\n",
    "\n",
    "A list of genes that are differentially expressed between the selected clusters\n",
    "\n",
    "\n",
    "Plots showing the effect of decreased sequencing depth on observed library complexity and on median genes per cell detected\n",
    "\n",
    "## Troubleshooting: when things go bad\n",
    "![](Aspose.Words.2e953e9a-44c0-496e-9758-25b7bd47b079.009.jpeg)\n",
    "\n",
    "![](Aspose.Words.2e953e9a-44c0-496e-9758-25b7bd47b079.010.jpeg)\n",
    "\n",
    "\n",
    "For other situations like these two below, there is usually little you can do and you’d better contact 10X genomics support and/or the sequencing core facility at your institution\n",
    "\n",
    "![](Aspose.Words.2e953e9a-44c0-496e-9758-25b7bd47b079.011.jpeg)"
   ]
  },
  {
   "cell_type": "markdown",
   "id": "221d0a85-dccb-42eb-ad02-f67edfdb9efd",
   "metadata": {},
   "source": [
    "**Exercise 4**: We provide you with some `web_summary.html` files. Use what you have learned above to evaluate each one of the experiments and write a short evaluation of what you observe at least ~50 words per each file. When you write a short summary, imagine you are reporting to your supervisor about how the experiment went."
   ]
  },
  {
   "cell_type": "markdown",
   "id": "fe47e318-6e39-4034-a8ea-b049e07fbd64",
   "metadata": {},
   "source": [
    "<ul>\n",
    "    <li><a href=\"https://raw.githubusercontent.com/sib-swiss/single-cell-python-training/main/exp1.html\" download=\"exp1.html\">Experiment 1</a></li>\n",
    "    <li><a href=\"https://raw.githubusercontent.com/sib-swiss/single-cell-python-training/main/exp2.html\" download=\"exp2.html\">Experiment 2</a></li>\n",
    "    <li><a href=\"https://raw.githubusercontent.com/sib-swiss/single-cell-python-training/main/exp3.html\" download=\"exp3.html\">Experiment 3</a></li>\n",
    "    <li><a href=\"https://raw.githubusercontent.com/sib-swiss/single-cell-python-training/main/exp4.html\" download=\"exp4.html\">Experiment 4</a></li>\n",
    "    <li><a href=\"https://raw.githubusercontent.com/sib-swiss/single-cell-python-training/main/exp5.html\" download=\"exp5.html\">Experiment 5</a></li>\n",
    "    <li><a href=\"https://raw.githubusercontent.com/sib-swiss/single-cell-python-training/main/exp6.html\" download=\"exp6.html\">Experiment 6</a></li>\n",
    "    <li><a href=\"https://raw.githubusercontent.com/sib-swiss/single-cell-python-training/main/exp7.html\" download=\"exp7.html\">Experiment 7</a></li>\n",
    "    <li><a href=\"https://raw.githubusercontent.com/sib-swiss/single-cell-python-training/main/exp8.html\" download=\"exp8.html\">Experiment 8</a></li>\n",
    "    <li><a href=\"https://raw.githubusercontent.com/sib-swiss/single-cell-python-training/main/exp9.html\" download=\"exp9.html\">Experiment 9</a></li>\n",
    "</ul>"
   ]
  }
 ],
 "metadata": {
  "kernelspec": {
   "display_name": "Python 3 (ipykernel)",
   "language": "python",
   "name": "python3"
  },
  "language_info": {
   "codemirror_mode": {
    "name": "ipython",
    "version": 3
   },
   "file_extension": ".py",
   "mimetype": "text/x-python",
   "name": "python",
   "nbconvert_exporter": "python",
   "pygments_lexer": "ipython3",
   "version": "3.8.13"
  }
 },
 "nbformat": 4,
 "nbformat_minor": 5
}
