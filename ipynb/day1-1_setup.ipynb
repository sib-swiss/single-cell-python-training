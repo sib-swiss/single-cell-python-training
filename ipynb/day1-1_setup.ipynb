{
 "cells": [
  {
   "cell_type": "markdown",
   "id": "0ce72c71-55c8-449b-a94c-843ac6024b8f",
   "metadata": {},
   "source": [
    "# Setup"
   ]
  },
  {
   "cell_type": "markdown",
   "id": "172dfc15-fde9-4641-8d81-db9b412a8981",
   "metadata": {},
   "source": [
    "### Login and set up"
   ]
  },
  {
   "cell_type": "markdown",
   "id": "d0c1bbac-a41a-4604-b55c-2797849f807e",
   "metadata": {},
   "source": [
    "If you are enrolled in the course, log on the server with the provided link, username, and password. The environment on the server contains all the necessary software pre-installed."
   ]
  },
  {
   "cell_type": "markdown",
   "id": "420bf86c-f51b-472e-9d41-8f78016bb808",
   "metadata": {},
   "source": [
    "### Create a project\n",
    "Now that you have access to an environment with the required installations, we will set up a project in a new directory. On the top right choose the \"+\" button."
   ]
  },
  {
   "cell_type": "markdown",
   "id": "08f31e45-a076-4d48-924c-4b3cd12c08fc",
   "metadata": {},
   "source": [
    "![](setup_img1.png)"
   ]
  },
  {
   "cell_type": "markdown",
   "id": "711bd140-daab-42bb-8e15-c576f20d431c",
   "metadata": {},
   "source": [
    "A new tab will open that allows you to choose between many options. The two most important ones are:\n",
    "1. Other => Terminal\n",
    "2. \"Notebook => Python 3 (ipykernel)\n",
    "\n",
    "Option (1) opens a command line prompt, which will be necessary for downloading the data and running cellranger. For the other exercises in Python, you will write your code in a Jupyter Lab notebook, which can be opened with the option (2). A Jupyter notebook is like a virtual laboratory notebook: you enter code into different \"cells\" and run those lines of code to read/write data, perform analyses, and make data visualizations. Also, a Jupyter notebook can be re-run multiple times to produce the same (reproducible) output!"
   ]
  },
  {
   "cell_type": "markdown",
   "id": "9c1468d4-7d2d-433f-b023-85eaab941238",
   "metadata": {},
   "source": [
    "![](setup_img3.png)"
   ]
  },
  {
   "cell_type": "markdown",
   "id": "d3c1dc1d-14e3-4028-a89a-4038c6bd0529",
   "metadata": {},
   "source": [
    "When you open the terminal window, it will look like this:"
   ]
  },
  {
   "cell_type": "markdown",
   "id": "65a76286-6bf1-4ed7-8412-e7b04214a3aa",
   "metadata": {},
   "source": [
    "![](setup_img4.png)"
   ]
  },
  {
   "cell_type": "markdown",
   "id": "ebe0e415-c117-418c-96e4-3e991fc661b1",
   "metadata": {},
   "source": [
    "At the top are the various tabs corresponding to your different terminal and jupyter notebooks that are currently open."
   ]
  },
  {
   "cell_type": "markdown",
   "id": "efee561c-498b-4176-befe-6ca6371341da",
   "metadata": {},
   "source": [
    "If you instead open a Jupyter notebook (under Notebook > Python 3 (ipykernel)), it will look like this:"
   ]
  },
  {
   "cell_type": "markdown",
   "id": "bb8ece5d-c410-45df-93ce-a31b5656fced",
   "metadata": {},
   "source": [
    "![](setup_img5.png)"
   ]
  },
  {
   "cell_type": "markdown",
   "id": "f67e9a5c-5368-470a-98f7-df64f12b5e5e",
   "metadata": {},
   "source": [
    "To rename a Jupyter notebook, type command+S (ctrl+S on a PC) and enter a name relevant to the analysis you will be performing in that specific notebook."
   ]
  },
  {
   "cell_type": "markdown",
   "id": "a1b7522e-9a1b-4aad-982a-4e43a5173859",
   "metadata": {},
   "source": [
    "![](setup_img6.png)"
   ]
  },
  {
   "cell_type": "markdown",
   "id": "4b067cd8-e69c-4d63-95cc-91fc7bcafdd1",
   "metadata": {},
   "source": [
    "At the top of the Jupyter notebook, there are various buttons that allow you to interact with the notebook."
   ]
  },
  {
   "cell_type": "markdown",
   "id": "14db452e-04ae-46bf-b7c5-5c28a804b857",
   "metadata": {},
   "source": [
    "![](setup_img7.png)"
   ]
  },
  {
   "cell_type": "markdown",
   "id": "f87b7ae7-bbe8-46d4-ac24-27592aa20118",
   "metadata": {},
   "source": [
    "From left to right: \n",
    "- \"SAVE\" button (saves the notebook)\n",
    "- \"ADD new code cell\" button (adds a new cell where you can write code)\n",
    "- \"CUT currently selected code cell\"\n",
    "- \"COPY currently selected code cell\"\n",
    "- \"RUN currently selected code cell\" \n",
    "- \"STOP running currently selected code cell\"\n",
    "- \"RESTART notebook\"\n",
    "- \"RUN ALL code cells in notebook\""
   ]
  },
  {
   "cell_type": "markdown",
   "id": "024db239-a58d-460c-8e31-8545d96b3c3f",
   "metadata": {},
   "source": [
    "You can also run a selected code cell by clicking on it and entering SHIFT + RETURN (SHIFT + ENTER on a PC)."
   ]
  },
  {
   "cell_type": "markdown",
   "id": "700c3b89-79b1-4ca3-81cb-fe2c285ab96e",
   "metadata": {},
   "source": [
    "On the left hand side of the page, you will see your current directory containing various notebooks, data files, and folders that you create throughout the course. For example:"
   ]
  },
  {
   "cell_type": "markdown",
   "id": "c1811c09-4ed4-4bba-9331-bc0370fb9d5b",
   "metadata": {},
   "source": [
    "![](setup_img8.png)"
   ]
  },
  {
   "cell_type": "markdown",
   "id": "292ad3a5-5e84-4a23-a5dd-6cf8c22ffd8e",
   "metadata": {},
   "source": [
    "## Downloading the course data\n",
    "\n",
    "To download and extract the dataset, copy-paste these commands inside the terminal tab:\n",
    "\n",
    "```{bash}\n",
    "wget https://single-cell-transcriptomics-python.s3.eu-central-1.amazonaws.com/course_data.tar.gz\n",
    "tar -xvf course_data.tar.gz\n",
    "rm course_data.tar.gz\n",
    "```\n",
    "\n",
    "### If on Windows\n",
    "\n",
    "If you're using Windows, you can directly open the [link](https://single-cell-transcriptomics-python.s3.eu-central-1.amazonaws.com/course_data.tar.gz) in your browser, and downloading will start automatically. Unpack the tar.gz file in the directory where you want to work in during the course.\n",
    "\n",
    "Have a look at the data directory you have downloaded. It should contain the following:\n",
    "\n",
    "```\n",
    "course_data\n",
    "├── count_matrices\n",
    "│   ├── ETV6-RUNX1_1\n",
    "│   │   └── outs\n",
    "│   │       └── filtered_feature_bc_matrix\n",
    "│   │           ├── barcodes.tsv.gz\n",
    "│   │           ├── features.tsv.gz\n",
    "│   │           └── matrix.mtx.gz\n",
    "│   ├── ETV6-RUNX1_2\n",
    "│   │   └── outs\n",
    "│   │       └── filtered_feature_bc_matrix\n",
    "│   │           ├── barcodes.tsv.gz\n",
    "│   │           ├── features.tsv.gz\n",
    "│   │           └── matrix.mtx.gz\n",
    "│   ├── ETV6-RUNX1_3\n",
    "│   │   └── outs\n",
    "│   │       └── filtered_feature_bc_matrix\n",
    "│   │           ├── barcodes.tsv.gz\n",
    "│   │           ├── features.tsv.gz\n",
    "│   │           └── matrix.mtx.gz\n",
    "│   ├── PBMMC_1\n",
    "│   │   └── outs\n",
    "│   │       └── filtered_feature_bc_matrix\n",
    "│   │           ├── barcodes.tsv.gz\n",
    "│   │           ├── features.tsv.gz\n",
    "│   │           └── matrix.mtx.gz\n",
    "│   ├── PBMMC_2\n",
    "│   │   └── outs\n",
    "│   │       └── filtered_feature_bc_matrix\n",
    "│   │           ├── barcodes.tsv.gz\n",
    "│   │           ├── features.tsv.gz\n",
    "│   │           └── matrix.mtx.gz\n",
    "│   └── PBMMC_3\n",
    "│       └── outs\n",
    "│           └── filtered_feature_bc_matrix\n",
    "│               ├── barcodes.tsv.gz\n",
    "│               ├── features.tsv.gz\n",
    "│               └── matrix.mtx.gz\n",
    "└── reads\n",
    "    ├── ETV6-RUNX1_1_S1_L001_I1_001.fastq.gz\n",
    "    ├── ETV6-RUNX1_1_S1_L001_R1_001.fastq.gz\n",
    "    └── ETV6-RUNX1_1_S1_L001_R2_001.fastq.gz\n",
    "\n",
    "20 directories, 21 files\n",
    "```\n",
    "\n",
    "This data comes from:\n",
    "\n",
    "Caron M, St-Onge P, Sontag T, Wang YC, Richer C, Ragoussis I, et al. **Single-cell analysis of childhood leukemia reveals a link between developmental states and ribosomal protein expression as a source of intra-individual heterogeneity.** Scientific Reports. 2020;10:1–12. Available from: http://dx.doi.org/10.1038/s41598-020-64929-x\n",
    "\n",
    "We will use the reads to showcase the use of `cellranger count`. The directory contains only reads from chromosome 21 and 22 of one sample (`ETV6-RUNX1_1`). The count matrices are output of `cellranger count`, and we will use those for the other exercises in `R`."
   ]
  }
 ],
 "metadata": {
  "kernelspec": {
   "display_name": "Python 3 (ipykernel)",
   "language": "python",
   "name": "python3"
  },
  "language_info": {
   "codemirror_mode": {
    "name": "ipython",
    "version": 3
   },
   "file_extension": ".py",
   "mimetype": "text/x-python",
   "name": "python",
   "nbconvert_exporter": "python",
   "pygments_lexer": "ipython3",
   "version": "3.8.13"
  }
 },
 "nbformat": 4,
 "nbformat_minor": 5
}
