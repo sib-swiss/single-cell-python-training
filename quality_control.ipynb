{
 "cells": [
  {
   "cell_type": "markdown",
   "metadata": {},
   "source": [
    "# Analysis tools and quality control (QC)\n",
    "\n",
    "Today, you will begin to learn about the standard workflow for analyzing scRNA-seq count data in Python. As single cell data is complex and often tailored to the particular experimental design, so there is not one “correct” approach to analyzing these data. However, certain steps have become accepted as a sort of standard \"best practice.\" \n",
    "\n",
    "A useful overview on the current best practices is found in the articles below, which we also borrow from in this tutorial. We thank the authors for compiling such handy resources!\n",
    "\n",
    "Current best practices in single-cell RNA-seq analysis are explained in a recent Nature Review: https://www.nature.com/articles/s41576-023-00586-w\n",
    "\n",
    "Accompanying this review is an online webpage, which is still under development but can be quite handy nonetheless:\n",
    "https://www.sc-best-practices.org/preamble.html"
   ]
  },
  {
   "cell_type": "code",
   "execution_count": null,
   "metadata": {},
   "outputs": [],
   "source": [
    "import scanpy as sc"
   ]
  }
 ],
 "metadata": {
  "language_info": {
   "name": "python"
  }
 },
 "nbformat": 4,
 "nbformat_minor": 2
}
